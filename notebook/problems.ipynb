{
 "cells": [
  {
   "cell_type": "markdown",
   "id": "ac622319",
   "metadata": {},
   "source": [
    "# Descriptive statistics problems"
   ]
  },
  {
   "cell_type": "markdown",
   "id": "5e0ab0d5",
   "metadata": {},
   "source": [
    "### Exercise 1\n",
    "\n",
    "We will use NumPy to obtain information to describe statistically.\n",
    "\n",
    "- Generate an array of 100 elements following a normal distribution.\n",
    "- Generate an array of 100 elements following a chi-square distribution with 3 degrees of freedom.\n",
    "- Calculate the main metrics and statistical measures that best describe the two vectors."
   ]
  },
  {
   "cell_type": "code",
   "execution_count": 12,
   "id": "34720ab6",
   "metadata": {},
   "outputs": [
    {
     "name": "stdout",
     "output_type": "stream",
     "text": [
      "Normal Distribution:\n",
      "[ 0.895393   -0.46223904  0.12081395 -0.15871096 -0.23644488 -0.31360554\n",
      " -1.36886062 -1.26870502 -2.24095084 -0.38867666  0.36142584  0.10607601\n",
      "  1.99345311  0.70560615 -0.84255018  1.85625743 -0.55841442 -0.37362055\n",
      " -1.75479922  1.45953738 -0.14237151  0.75525184  1.35349374 -0.88514003\n",
      "  1.63456237  0.06070092  0.11770528  0.94736017  0.40121665  0.05788678\n",
      " -0.82693134  0.46198051 -1.05009234 -1.81302201  1.14927792  0.4341736\n",
      " -1.30810065  0.4547672  -0.15677655  0.59083416  0.43502927 -0.80231346\n",
      " -1.80211445 -0.45919799  0.86552068  1.33867626 -0.13772231  2.68543859\n",
      " -0.38281865  1.67218939 -0.43852344  0.51057518 -0.32840014 -0.15340284\n",
      " -0.21421036 -0.30362953  0.94505847  0.59390971 -1.58217163  0.39516797\n",
      "  0.47022273  1.58299998  1.25237347  0.40752372  0.79156269  0.55670834\n",
      "  1.1296827  -0.46330766 -0.68738621 -0.19419694  1.32297753  1.67876065\n",
      "  1.08471325 -1.05148067  0.15633532 -0.36235246 -0.02743457 -0.57547248\n",
      "  1.39469044  0.32183589  0.9552354   0.1146478   1.5414732   0.57609839\n",
      "  0.11660012 -0.39864931 -0.73864884 -0.66410145  1.81399517 -0.6125689\n",
      "  0.28440254  1.07080712  0.71156217 -0.68425735 -0.5525198   0.40474235\n",
      "  0.55350496 -0.57610258 -0.36442674  0.49737975]\n",
      "Mean: 0.15442752070350443\n",
      "Median: 0.11715269754429061\n",
      "Standard Deviation: 0.9408740115577962\n",
      "Kurtosis: -0.16460342101018144\n",
      "Skewness: 0.0074574123317253365\n",
      "\n",
      "Chi-Square Distribution:\n",
      "[ 2.89673385  1.05121475  0.91614374  5.79686372  0.42447906  0.1469877\n",
      "  4.11168896  1.79754468  6.08025376  3.5454456   3.92660622  0.51237144\n",
      "  1.85186104  2.33526894  4.44888659  1.36256107  2.07211305  5.93251394\n",
      "  4.61061116  2.81301468  1.32939898  1.70625651  2.00311589  1.22360574\n",
      "  1.53967666  7.1632683   2.04098493  1.23642914  2.19996692  6.5918739\n",
      "  5.00835794  3.59403913  3.7312949   0.32561231  4.69104179  1.88453054\n",
      "  0.62325346  3.17685071  1.09074693  5.48124602  0.07564456  3.59286717\n",
      "  1.27112783  2.30785457  7.71893947  7.26193539  3.0735841   0.47574738\n",
      "  0.29770177  1.8095042   1.07218146  4.18648076  1.05224732  3.03303829\n",
      "  0.9139575   5.49830469  2.72485184  0.30869546  5.98970523  1.58093673\n",
      "  1.3027079   1.19903652  6.79068068  0.99457928  2.11707199  2.11040875\n",
      "  0.98607856  7.99717269  4.49637678  1.69314477  5.46536887  6.3774961\n",
      "  6.25375438 14.69599721  1.93964619  2.19095404  6.19695054  0.73044537\n",
      "  2.16710963  5.47869634  1.58601103  1.94779174  4.04062285  0.65522828\n",
      "  4.19739784  7.52785428  5.22806753  0.99219789  0.9987598   5.42423181\n",
      "  5.67645158  0.73514214  1.55949383  1.6201997   5.23393741  2.08051663\n",
      " 12.18062038  1.59192839  0.70951577  0.62917866]\n",
      "Mean: 3.1331884453505325\n",
      "Median: 2.113740371066017\n",
      "Standard Deviation: 2.5841243646907954\n",
      "Kurtosis: 3.4414215714521195\n",
      "Skewness: 1.5376715338252194\n"
     ]
    }
   ],
   "source": [
    "import numpy as np\n",
    "from scipy.stats import kurtosis, skew\n",
    "\n",
    "normal = np.random.normal(size=100) # Standard normal distribution\n",
    "chi_square = np.random.chisquare(df=3, size=100) # Chi-square distribution with 3 degrees of freedom\n",
    "\n",
    "# main metrics for the normal distribution\n",
    "normal_mean = np.mean(normal)\n",
    "normal_median = np.median(normal)\n",
    "normal_std = np.std(normal)\n",
    "normal_kurtosis = kurtosis(normal)\n",
    "normal_skewness = skew(normal)\n",
    "\n",
    "# main metrics for the chi-square distribution\n",
    "chi_square_mean = np.mean(chi_square)\n",
    "chi_square_median = np.median(chi_square)\n",
    "chi_square_std = np.std(chi_square)\n",
    "chi_square_kurtosis = kurtosis(chi_square)\n",
    "chi_square_skewness = skew(chi_square)\n",
    "\n",
    "print(\"Normal Distribution:\")\n",
    "print(normal)\n",
    "print(f\"Mean: {normal_mean}\")\n",
    "print(f\"Median: {normal_median}\")\n",
    "print(f\"Standard Deviation: {normal_std}\")\n",
    "print(f\"Kurtosis: {normal_kurtosis}\")\n",
    "print(f\"Skewness: {normal_skewness}\")\n",
    "\n",
    "print(\"\\nChi-Square Distribution:\")\n",
    "print(chi_square)\n",
    "print(f\"Mean: {chi_square_mean}\")\n",
    "print(f\"Median: {chi_square_median}\")\n",
    "print(f\"Standard Deviation: {chi_square_std}\")\n",
    "print(f\"Kurtosis: {chi_square_kurtosis}\")\n",
    "print(f\"Skewness: {chi_square_skewness}\")\n"
   ]
  },
  {
   "cell_type": "markdown",
   "id": "46c70c3d",
   "metadata": {},
   "source": [
    "### Exercise 2\n",
    "\n",
    "Write a Python program to calculate the standard deviation of the following data:\n",
    "\n",
    "```py\n",
    "data = [4, 2, 5, 8, 6]\n",
    "```"
   ]
  },
  {
   "cell_type": "code",
   "execution_count": 2,
   "id": "d590308e",
   "metadata": {},
   "outputs": [],
   "source": [
    "# TODO"
   ]
  }
 ],
 "metadata": {
  "kernelspec": {
   "display_name": "Python 3",
   "language": "python",
   "name": "python3"
  },
  "language_info": {
   "codemirror_mode": {
    "name": "ipython",
    "version": 3
   },
   "file_extension": ".py",
   "mimetype": "text/x-python",
   "name": "python",
   "nbconvert_exporter": "python",
   "pygments_lexer": "ipython3",
   "version": "3.11.4"
  }
 },
 "nbformat": 4,
 "nbformat_minor": 5
}
